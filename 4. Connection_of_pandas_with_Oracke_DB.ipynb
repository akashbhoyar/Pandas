{
 "cells": [
  {
   "cell_type": "raw",
   "id": "2ae76d67",
   "metadata": {},
   "source": [
    "Connecting Pandas with an Oracle database can be useful for a variety of reasons. \n",
    "Here are a few:\n",
    "\n",
    "Data analysis: \n",
    "        Pandas provides powerful tools for data analysis, and by connecting to an Oracle \n",
    "        database, you can analyze large datasets that are stored in the database.\n",
    "\n",
    "Data manipulation: \n",
    "        Pandas makes it easy to manipulate and transform data. By connecting to an \n",
    "        Oracle database, you can retrieve data from the database, manipulate it using Pandas, and then \n",
    "        write the results back to the database.\n",
    "\n",
    "Data visualization: \n",
    "        Pandas can be used to create visualizations of data, which can help to \n",
    "        identify trends and patterns. By connecting to an Oracle database, you can create visualizations \n",
    "        based on data stored in the database.\n",
    "\n",
    "Automation: \n",
    "        By connecting Pandas with an Oracle database, you can automate data retrieval and \n",
    "        analysis tasks, which can save time and reduce errors.\n",
    "\n",
    "Overall, connecting Pandas with an Oracle database can provide a powerful platform for data \n",
    "analysis, manipulation, visualization, and automation."
   ]
  },
  {
   "cell_type": "markdown",
   "id": "79f841a5",
   "metadata": {},
   "source": [
    "## Steps to Connect Pandas with Oracle Database"
   ]
  },
  {
   "cell_type": "markdown",
   "id": "71ba8677",
   "metadata": {},
   "source": [
    "Step-1 --> Install the cx_Oracle library which is used for connecting Python to Oracle databases. You can install it via pip:"
   ]
  },
  {
   "cell_type": "code",
   "execution_count": null,
   "id": "daf1a3cd",
   "metadata": {},
   "outputs": [],
   "source": [
    "pip install cx_Oracle"
   ]
  },
  {
   "cell_type": "markdown",
   "id": "e33bea22",
   "metadata": {},
   "source": [
    "Step-2 --> Import the required libraries:"
   ]
  },
  {
   "cell_type": "code",
   "execution_count": 2,
   "id": "3f078c58",
   "metadata": {},
   "outputs": [],
   "source": [
    "import pandas as pd\n",
    "import cx_Oracle"
   ]
  },
  {
   "cell_type": "markdown",
   "id": "2e55de37",
   "metadata": {},
   "source": [
    "Step-3 --> Establish a connection to your Oracle database by specifying the connection string, \n",
    "which should include the username, password, host, port, and database name. \n",
    "Here's an example:"
   ]
  },
  {
   "cell_type": "code",
   "execution_count": 5,
   "id": "d8818500",
   "metadata": {},
   "outputs": [
    {
     "name": "stdout",
     "output_type": "stream",
     "text": [
      "19.15.0.0.0\n"
     ]
    }
   ],
   "source": [
    "conn = cx_Oracle.connect('username/password@host______________________________________________:port/service_name')\n",
    "\n",
    "# replace the placeholders with your actual values :\n",
    "# username = '<your_username>'\n",
    "# password = '<your_password>'\n",
    "# host = '<your_host>'\n",
    "# port = '<your_port>'\n",
    "# service_name = '<your_service_name>'\n",
    "\n",
    "print(conn.version)"
   ]
  },
  {
   "cell_type": "markdown",
   "id": "a71fee11",
   "metadata": {},
   "source": [
    "Step-4 -->Use the read_sql function in Pandas to execute a SQL query and retrieve the results as a Pandas DataFrame. Here's an example:"
   ]
  },
  {
   "cell_type": "code",
   "execution_count": 9,
   "id": "f6ef27f4",
   "metadata": {},
   "outputs": [],
   "source": [
    "query = 'SELECT * FROM customer'\n",
    "df = pd.read_sql(query, con=conn)"
   ]
  },
  {
   "cell_type": "markdown",
   "id": "12fb4c54",
   "metadata": {},
   "source": [
    "Step-5 --> Close the database connection when you're done:"
   ]
  },
  {
   "cell_type": "code",
   "execution_count": 7,
   "id": "4a3cdfc2",
   "metadata": {},
   "outputs": [],
   "source": [
    "conn.close()"
   ]
  },
  {
   "cell_type": "markdown",
   "id": "ab990502",
   "metadata": {},
   "source": [
    "### Print a table"
   ]
  },
  {
   "cell_type": "code",
   "execution_count": 8,
   "id": "97cd0270",
   "metadata": {},
   "outputs": [
    {
     "data": {
      "text/html": [
       "<div>\n",
       "<style scoped>\n",
       "    .dataframe tbody tr th:only-of-type {\n",
       "        vertical-align: middle;\n",
       "    }\n",
       "\n",
       "    .dataframe tbody tr th {\n",
       "        vertical-align: top;\n",
       "    }\n",
       "\n",
       "    .dataframe thead th {\n",
       "        text-align: right;\n",
       "    }\n",
       "</style>\n",
       "<table border=\"1\" class=\"dataframe\">\n",
       "  <thead>\n",
       "    <tr style=\"text-align: right;\">\n",
       "      <th></th>\n",
       "      <th>CUSTOMER_ID</th>\n",
       "      <th>CUST_NAME</th>\n",
       "      <th>CITY</th>\n",
       "      <th>GRADE</th>\n",
       "      <th>SALESMAN_ID</th>\n",
       "    </tr>\n",
       "  </thead>\n",
       "  <tbody>\n",
       "    <tr>\n",
       "      <th>0</th>\n",
       "      <td>3002</td>\n",
       "      <td>Nick Rimando</td>\n",
       "      <td>New York</td>\n",
       "      <td>100</td>\n",
       "      <td>5001</td>\n",
       "    </tr>\n",
       "    <tr>\n",
       "      <th>1</th>\n",
       "      <td>3005</td>\n",
       "      <td>Graham Zusi</td>\n",
       "      <td>California</td>\n",
       "      <td>200</td>\n",
       "      <td>5002</td>\n",
       "    </tr>\n",
       "    <tr>\n",
       "      <th>2</th>\n",
       "      <td>3007</td>\n",
       "      <td>Brad Davis</td>\n",
       "      <td>New York</td>\n",
       "      <td>200</td>\n",
       "      <td>5002</td>\n",
       "    </tr>\n",
       "    <tr>\n",
       "      <th>3</th>\n",
       "      <td>3008</td>\n",
       "      <td>Julian Green</td>\n",
       "      <td>Lodon</td>\n",
       "      <td>200</td>\n",
       "      <td>5002</td>\n",
       "    </tr>\n",
       "    <tr>\n",
       "      <th>4</th>\n",
       "      <td>3004</td>\n",
       "      <td>Fabian Johnson</td>\n",
       "      <td>Paris</td>\n",
       "      <td>300</td>\n",
       "      <td>5006</td>\n",
       "    </tr>\n",
       "    <tr>\n",
       "      <th>5</th>\n",
       "      <td>3009</td>\n",
       "      <td>Geoff Cameron</td>\n",
       "      <td>Berlin</td>\n",
       "      <td>100</td>\n",
       "      <td>5003</td>\n",
       "    </tr>\n",
       "    <tr>\n",
       "      <th>6</th>\n",
       "      <td>3003</td>\n",
       "      <td>Jozy Altidor</td>\n",
       "      <td>Moscow</td>\n",
       "      <td>100</td>\n",
       "      <td>5007</td>\n",
       "    </tr>\n",
       "    <tr>\n",
       "      <th>7</th>\n",
       "      <td>3001</td>\n",
       "      <td>Brad Guzan</td>\n",
       "      <td>London</td>\n",
       "      <td>100</td>\n",
       "      <td>5005</td>\n",
       "    </tr>\n",
       "  </tbody>\n",
       "</table>\n",
       "</div>"
      ],
      "text/plain": [
       "   CUSTOMER_ID        CUST_NAME        CITY  GRADE  SALESMAN_ID\n",
       "0         3002     Nick Rimando    New York    100         5001\n",
       "1         3005      Graham Zusi  California    200         5002\n",
       "2         3007       Brad Davis    New York    200         5002\n",
       "3         3008     Julian Green       Lodon    200         5002\n",
       "4         3004  Fabian Johnson        Paris    300         5006\n",
       "5         3009    Geoff Cameron      Berlin    100         5003\n",
       "6         3003    Jozy Altidor       Moscow    100         5007\n",
       "7         3001       Brad Guzan      London    100         5005"
      ]
     },
     "execution_count": 8,
     "metadata": {},
     "output_type": "execute_result"
    }
   ],
   "source": [
    "df"
   ]
  },
  {
   "cell_type": "code",
   "execution_count": null,
   "id": "91c579a4",
   "metadata": {},
   "outputs": [],
   "source": []
  }
 ],
 "metadata": {
  "kernelspec": {
   "display_name": "Python 3 (ipykernel)",
   "language": "python",
   "name": "python3"
  },
  "language_info": {
   "codemirror_mode": {
    "name": "ipython",
    "version": 3
   },
   "file_extension": ".py",
   "mimetype": "text/x-python",
   "name": "python",
   "nbconvert_exporter": "python",
   "pygments_lexer": "ipython3",
   "version": "3.10.1"
  }
 },
 "nbformat": 4,
 "nbformat_minor": 5
}
